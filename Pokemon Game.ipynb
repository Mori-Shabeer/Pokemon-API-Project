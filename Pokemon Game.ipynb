{
 "cells": [
  {
   "cell_type": "markdown",
   "id": "a4d89244-3c2b-46c0-98bf-d54d83b47c10",
   "metadata": {},
   "source": [
    "# Pokémon Battle Game\n",
    "![Pokemon Battle](https://media3.giphy.com/media/v1.Y2lkPTc5MGI3NjExNGY2cmNoaWE1ZTA5NHBtdmljc3Qxamt1NzliNWgzYWxwNm54M2pkZyZlcD12MV9pbnRlcm5hbF9naWZfYnlfaWQmY3Q9Zw/FAxPIii1As4UpqmEkx/giphy.gif)"
   ]
  },
  {
   "cell_type": "markdown",
   "id": "ca9f105d-f85a-4894-8def-339adba35d68",
   "metadata": {},
   "source": [
    "## This notebook will guide you through building an interactive Pokémon battle game using the PokeAPI."
   ]
  },
  {
   "cell_type": "markdown",
   "id": "dc4ce2d1-6089-4ef1-a4ff-21c393c7adfa",
   "metadata": {},
   "source": [
    "### Features:\n",
    "- **Fetch Pokémon data (name, abilities, moves, types) using the `requests` library**\n",
    "- **Build a Pokémon team and battle gym leaders**\n",
    "- **Simulated turn-based battle system**\n",
    "- **Unit testing with `unittest`**\n",
    "- **Over 1118 Pokémon available**\n",
    "- **20 Pokémon types with type effectiveness applied**\n",
    "- **Simulated turn-based 6v6 battle system**\n"
   ]
  },
  {
   "cell_type": "code",
   "execution_count": 22,
   "id": "9ceaef77-9efa-415d-99cb-6a5ba14fce55",
   "metadata": {},
   "outputs": [],
   "source": [
    "import requests\n",
    "import random\n",
    "import unittest"
   ]
  },
  {
   "cell_type": "markdown",
   "id": "2c755602-3ead-4585-a3f8-aaedfd02d531",
   "metadata": {},
   "source": [
    "### Step 1: Define the Pokedex Class\n",
    "#### The Pokedex class fetches Pokémon details using the PokeAPI and stores them."
   ]
  },
  {
   "cell_type": "code",
   "execution_count": 23,
   "id": "1f27db73-0dd1-4621-9a75-556c6786f008",
   "metadata": {},
   "outputs": [],
   "source": [
    "class Pokedex:\n",
    "    \"\"\"Class to fetch and store Pokémon data.\"\"\"\n",
    "    BASE_URL = \"https://pokeapi.co/api/v2/pokemon/\"\n",
    "    TYPE_EFFECTIVENESS = {\n",
    "        \"normal\": {\"rock\": 0.5, \"ghost\": 0.0, \"steel\": 0.5},\n",
    "        \"fire\": {\"grass\": 2.0, \"ice\": 2.0, \"bug\": 2.0, \"steel\": 2.0, \"fire\": 0.5, \"water\": 0.5, \"rock\": 0.5, \"dragon\": 0.5},\n",
    "        \"water\": {\"fire\": 2.0, \"ground\": 2.0, \"rock\": 2.0, \"water\": 0.5, \"grass\": 0.5, \"dragon\": 0.5},\n",
    "        \"grass\": {\"water\": 2.0, \"ground\": 2.0, \"rock\": 2.0, \"fire\": 0.5, \"grass\": 0.5, \"poison\": 0.5, \"flying\": 0.5, \"bug\": 0.5, \"dragon\": 0.5, \"steel\": 0.5},\n",
    "        \"electric\": {\"water\": 2.0, \"flying\": 2.0, \"electric\": 0.5, \"grass\": 0.5, \"dragon\": 0.5, \"ground\": 0.0},\n",
    "        \"ice\": {\"grass\": 2.0, \"ground\": 2.0, \"flying\": 2.0, \"dragon\": 2.0, \"fire\": 0.5, \"water\": 0.5, \"ice\": 0.5, \"steel\": 0.5},\n",
    "        \"fighting\": {\"normal\": 2.0, \"ice\": 2.0, \"rock\": 2.0, \"dark\": 2.0, \"steel\": 2.0, \"poison\": 0.5, \"flying\": 0.5, \"psychic\": 0.5, \"bug\": 0.5, \"fairy\": 0.5, \"ghost\": 0.0},\n",
    "        \"poison\": {\"grass\": 2.0, \"fairy\": 2.0, \"poison\": 0.5, \"ground\": 0.5, \"rock\": 0.5, \"ghost\": 0.5, \"steel\": 0.0},\n",
    "        \"ground\": {\"fire\": 2.0, \"electric\": 2.0, \"poison\": 2.0, \"rock\": 2.0, \"steel\": 2.0, \"grass\": 0.5, \"bug\": 0.5, \"flying\": 0.0},\n",
    "        \"flying\": {\"grass\": 2.0, \"fighting\": 2.0, \"bug\": 2.0, \"electric\": 0.5, \"rock\": 0.5, \"steel\": 0.5},\n",
    "        \"psychic\": {\"fighting\": 2.0, \"poison\": 2.0, \"psychic\": 0.5, \"steel\": 0.5, \"dark\": 0.0},\n",
    "        \"bug\": {\"grass\": 2.0, \"psychic\": 2.0, \"dark\": 2.0, \"fire\": 0.5, \"fighting\": 0.5, \"poison\": 0.5, \"flying\": 0.5, \"ghost\": 0.5, \"steel\": 0.5, \"fairy\": 0.5},\n",
    "        \"rock\": {\"fire\": 2.0, \"ice\": 2.0, \"flying\": 2.0, \"bug\": 2.0, \"fighting\": 0.5, \"ground\": 0.5, \"steel\": 0.5},\n",
    "        \"ghost\": {\"psychic\": 2.0, \"ghost\": 2.0, \"normal\": 0.0, \"dark\": 0.5},\n",
    "        \"dragon\": {\"dragon\": 2.0, \"steel\": 0.5, \"fairy\": 0.0},\n",
    "        \"dark\": {\"psychic\": 2.0, \"ghost\": 2.0, \"fighting\": 0.5, \"dark\": 0.5, \"fairy\": 0.5},\n",
    "        \"steel\": {\"ice\": 2.0, \"rock\": 2.0, \"fairy\": 2.0, \"fire\": 0.5, \"water\": 0.5, \"electric\": 0.5, \"steel\": 0.5},\n",
    "        \"fairy\": {\"fighting\": 2.0, \"dragon\": 2.0, \"dark\": 2.0, \"fire\": 0.5, \"poison\": 0.5, \"steel\": 0.5}\n",
    "    }\n",
    "    \n",
    "    def __init__(self):\n",
    "        self.pokemon_data = {}\n",
    "    \n",
    "    def get_pokemon(self, name):\n",
    "        \"\"\"Fetch Pokémon details from PokeAPI with error handling.\"\"\"\n",
    "        if name in self.pokemon_data:\n",
    "            return self.pokemon_data[name]\n",
    "        \n",
    "        try:\n",
    "            response = requests.get(f\"{self.BASE_URL}{name.lower()}\", timeout=5)\n",
    "            response.raise_for_status()\n",
    "            data = response.json()\n",
    "            pokemon_info = {\n",
    "                \"name\": data[\"name\"],\n",
    "                \"abilities\": [ability[\"ability\"][\"name\"] for ability in data[\"abilities\"]],\n",
    "                \"moves\": [move[\"move\"][\"name\"] for move in data[\"moves\"]][:4],\n",
    "                \"types\": [ptype[\"type\"][\"name\"] for ptype in data[\"types\"]],\n",
    "                \"hp\": random.randint(50, 100)  # Randomized HP for gameplay\n",
    "            }\n",
    "            self.pokemon_data[name] = pokemon_info\n",
    "            return pokemon_info\n",
    "        except requests.exceptions.RequestException as e:\n",
    "            print(f\"Error fetching Pokémon: {e}\")\n",
    "            return None"
   ]
  },
  {
   "cell_type": "markdown",
   "id": "4e7a60a0-98be-4542-ab82-d5d5c778ec68",
   "metadata": {},
   "source": [
    "### Step 2: Define the Battle System\n",
    "#### This class manages turn-based 6v6 battles between Pokémon."
   ]
  },
  {
   "cell_type": "code",
   "execution_count": 24,
   "id": "ff442505-e974-48c4-8d3f-bb7dd01d1c9f",
   "metadata": {},
   "outputs": [],
   "source": [
    "class PokemonBattle:\n",
    "    \"\"\"Class to manage Pokémon battles.\"\"\"\n",
    "    def __init__(self, trainer, gym_leader):\n",
    "        self.trainer = trainer\n",
    "        self.gym_leader = gym_leader\n",
    "    \n",
    "    def type_effectiveness(self, attack_types, defend_types):\n",
    "        \"\"\"Calculate type effectiveness multiplier.\"\"\"\n",
    "        multiplier = 1.0\n",
    "        for attack_type in attack_types:\n",
    "            for defend_type in defend_types:\n",
    "                multiplier *= Pokedex.TYPE_EFFECTIVENESS.get(attack_type, {}).get(defend_type, 1.0)\n",
    "        return multiplier\n",
    "    \n",
    "    def attack(self, attacker, defender):\n",
    "        \"\"\"Simulate an attack move with type effectiveness.\"\"\"\n",
    "        move = random.choice(attacker[\"moves\"])\n",
    "        effectiveness = self.type_effectiveness(attacker[\"types\"], defender[\"types\"])\n",
    "        damage = int(random.randint(10, 30) * effectiveness)\n",
    "        defender[\"hp\"] -= damage\n",
    "        print(f\"{attacker['name']} used {move}! It dealt {damage} damage.\")\n",
    "        if defender[\"hp\"] <= 0:\n",
    "            print(f\"{defender['name']} fainted!\")\n",
    "            return True\n",
    "        return False\n",
    "    \n",
    "    def start_battle(self):\n",
    "        \"\"\"Start the 6v6 battle between the trainer and the gym leader.\"\"\"\n",
    "        print(f\"Battle Start: {self.trainer.name} vs {self.gym_leader.name}!\")\n",
    "        \n",
    "        for trainer_pokemon, gym_pokemon in zip(self.trainer.team, self.gym_leader.team):\n",
    "            print(f\"{trainer_pokemon['name']} VS {gym_pokemon['name']}\")\n",
    "            while trainer_pokemon[\"hp\"] > 0 and gym_pokemon[\"hp\"] > 0:\n",
    "                if self.attack(trainer_pokemon, gym_pokemon):\n",
    "                    break\n",
    "                if self.attack(gym_pokemon, trainer_pokemon):\n",
    "                    break\n",
    "        \n",
    "        if any(pokemon[\"hp\"] > 0 for pokemon in self.trainer.team):\n",
    "            print(f\"{self.trainer.name} wins!\")\n",
    "        else:\n",
    "            print(f\"{self.gym_leader.name} wins!\")"
   ]
  },
  {
   "cell_type": "markdown",
   "id": "b7ce56eb-ef88-4d59-8b90-58a24324df84",
   "metadata": {},
   "source": [
    "### Step 3: Define Trainers and Gym Leaders\n",
    "#### Trainers can catch Pokémon and battle gym leaders."
   ]
  },
  {
   "cell_type": "code",
   "execution_count": 25,
   "id": "61c17353-a158-4b72-b132-105af29e31bf",
   "metadata": {},
   "outputs": [],
   "source": [
    "class Trainer:\n",
    "    \"\"\"Class for a Pokémon trainer who can build a team and battle gym leaders.\"\"\"\n",
    "    def __init__(self, name):\n",
    "        self.name = name\n",
    "        self.team = []\n",
    "    \n",
    "    def catch_pokemon(self, pokedex, pokemon_name):\n",
    "        \"\"\"Add a Pokémon to the trainer's team.\"\"\"\n",
    "        if len(self.team) < 6:\n",
    "            pokemon = pokedex.get_pokemon(pokemon_name)\n",
    "            if pokemon:\n",
    "                self.team.append(pokemon)\n",
    "                print(f\"{pokemon_name} added to your team!\")\n",
    "            else:\n",
    "                print(\"Could not find Pokémon.\")\n",
    "        else:\n",
    "            print(\"Your team is full!\")\n",
    "    \n",
    "    def show_team(self):\n",
    "        \"\"\"Display the trainer's Pokémon team.\"\"\"\n",
    "        if self.team:\n",
    "            print(f\"{self.name}'s Team:\")\n",
    "            for pokemon in self.team:\n",
    "                print(f\"- {pokemon['name']} (HP: {pokemon['hp']})\")\n",
    "        else:\n",
    "            print(\"You have no Pokémon in your team.\")\n",
    "\n",
    "class GymLeader(Trainer):\n",
    "    \"\"\"Class representing a Gym Leader with a fixed Pokémon team.\"\"\"\n",
    "    pass"
   ]
  },
  {
   "cell_type": "markdown",
   "id": "12bff4ee-7c5c-4fc5-90c2-3c25fc564589",
   "metadata": {},
   "source": [
    "### Step 4: Unit Testing\n",
    "#### We use `unittest` to verify the correctness of our Pokedex implementation."
   ]
  },
  {
   "cell_type": "code",
   "execution_count": 26,
   "id": "03df0136-7477-4ef6-826c-aaf622bad82d",
   "metadata": {},
   "outputs": [
    {
     "name": "stderr",
     "output_type": "stream",
     "text": [
      "...\n",
      "----------------------------------------------------------------------\n",
      "Ran 3 tests in 0.130s\n",
      "\n",
      "OK\n"
     ]
    },
    {
     "name": "stdout",
     "output_type": "stream",
     "text": [
      "Error fetching Pokémon: 404 Client Error: Not Found for url: https://pokeapi.co/api/v2/pokemon/invalidpokemon\n"
     ]
    }
   ],
   "source": [
    "class TestPokedex(unittest.TestCase):\n",
    "    def setUp(self):\n",
    "        self.pokedex = Pokedex()\n",
    "    \n",
    "    def test_fetch_pokemon(self):\n",
    "        pokemon = self.pokedex.get_pokemon(\"pikachu\")\n",
    "        self.assertIsNotNone(pokemon)\n",
    "        self.assertEqual(pokemon[\"name\"], \"pikachu\")\n",
    "    \n",
    "    def test_fetch_invalid_pokemon(self):\n",
    "        pokemon = self.pokedex.get_pokemon(\"invalidpokemon\")\n",
    "        self.assertIsNone(pokemon)\n",
    "    \n",
    "    def test_cache_pokemon(self):\n",
    "        self.pokedex.get_pokemon(\"pikachu\")\n",
    "        self.assertIn(\"pikachu\", self.pokedex.pokemon_data)\n",
    "    \n",
    "if __name__ == \"__main__\":\n",
    "    unittest.main(argv=['first-arg-is-ignored'], exit=False)"
   ]
  },
  {
   "cell_type": "markdown",
   "id": "1a59af1a-a44d-429e-92d4-6a1e1cd237c4",
   "metadata": {},
   "source": [
    "### Step 5: Play the Game\n",
    "#### The trainer can catch Pokémon and battle a gym leader."
   ]
  },
  {
   "cell_type": "code",
   "execution_count": 27,
   "id": "bebe19d9-b5e8-40f2-963d-567736037c32",
   "metadata": {},
   "outputs": [
    {
     "name": "stdin",
     "output_type": "stream",
     "text": [
      "Enter your name:  Mori\n",
      "Catch a Pokémon:  Gengar\n"
     ]
    },
    {
     "name": "stdout",
     "output_type": "stream",
     "text": [
      "Gengar added to your team!\n"
     ]
    },
    {
     "name": "stdin",
     "output_type": "stream",
     "text": [
      "Catch a Pokémon:  Snorlax\n"
     ]
    },
    {
     "name": "stdout",
     "output_type": "stream",
     "text": [
      "Snorlax added to your team!\n"
     ]
    },
    {
     "name": "stdin",
     "output_type": "stream",
     "text": [
      "Catch a Pokémon:  Lucario\n"
     ]
    },
    {
     "name": "stdout",
     "output_type": "stream",
     "text": [
      "Lucario added to your team!\n"
     ]
    },
    {
     "name": "stdin",
     "output_type": "stream",
     "text": [
      "Catch a Pokémon:  Rayquaza\n"
     ]
    },
    {
     "name": "stdout",
     "output_type": "stream",
     "text": [
      "Rayquaza added to your team!\n"
     ]
    },
    {
     "name": "stdin",
     "output_type": "stream",
     "text": [
      "Catch a Pokémon:  Darkrai\n"
     ]
    },
    {
     "name": "stdout",
     "output_type": "stream",
     "text": [
      "Darkrai added to your team!\n"
     ]
    },
    {
     "name": "stdin",
     "output_type": "stream",
     "text": [
      "Catch a Pokémon:  Pikachu\n"
     ]
    },
    {
     "name": "stdout",
     "output_type": "stream",
     "text": [
      "Pikachu added to your team!\n",
      "Mori's Team:\n",
      "- gengar (HP: 74)\n",
      "- snorlax (HP: 79)\n",
      "- lucario (HP: 64)\n",
      "- rayquaza (HP: 93)\n",
      "- darkrai (HP: 82)\n",
      "- pikachu (HP: 88)\n",
      "Battle Start: Mori vs Brock!\n",
      "gengar VS onix\n",
      "gengar used thunder-punch! It dealt 6 damage.\n",
      "onix used headbutt! It dealt 40 damage.\n",
      "gengar used mega-punch! It dealt 7 damage.\n",
      "onix used tackle! It dealt 26 damage.\n",
      "gengar used thunder-punch! It dealt 5 damage.\n",
      "onix used headbutt! It dealt 52 damage.\n",
      "gengar fainted!\n",
      "snorlax VS geodude\n",
      "snorlax used ice-punch! It dealt 6 damage.\n",
      "geodude used thunder-punch! It dealt 18 damage.\n",
      "snorlax used fire-punch! It dealt 7 damage.\n",
      "geodude used thunder-punch! It dealt 22 damage.\n",
      "snorlax used mega-punch! It dealt 7 damage.\n",
      "geodude used mega-punch! It dealt 19 damage.\n",
      "snorlax used fire-punch! It dealt 12 damage.\n",
      "geodude used sand-attack! It dealt 18 damage.\n",
      "snorlax used ice-punch! It dealt 14 damage.\n",
      "geodude used fire-punch! It dealt 21 damage.\n",
      "snorlax fainted!\n",
      "lucario VS graveler\n",
      "lucario used swords-dance! It dealt 104 damage.\n",
      "graveler fainted!\n",
      "rayquaza VS golem\n",
      "rayquaza used swords-dance! It dealt 7 damage.\n",
      "golem used thunder-punch! It dealt 0 damage.\n",
      "rayquaza used headbutt! It dealt 6 damage.\n",
      "golem used fire-punch! It dealt 0 damage.\n",
      "rayquaza used headbutt! It dealt 6 damage.\n",
      "golem used mega-punch! It dealt 0 damage.\n",
      "rayquaza used fly! It dealt 15 damage.\n",
      "golem used mega-kick! It dealt 0 damage.\n",
      "rayquaza used swords-dance! It dealt 10 damage.\n",
      "golem used mega-kick! It dealt 0 damage.\n",
      "rayquaza used fly! It dealt 13 damage.\n",
      "golem used mega-punch! It dealt 0 damage.\n",
      "rayquaza used swords-dance! It dealt 8 damage.\n",
      "golem used mega-punch! It dealt 0 damage.\n",
      "rayquaza used bind! It dealt 13 damage.\n",
      "golem fainted!\n",
      "darkrai VS kabuto\n",
      "darkrai used swords-dance! It dealt 12 damage.\n",
      "kabuto used body-slam! It dealt 17 damage.\n",
      "darkrai used cut! It dealt 29 damage.\n",
      "kabuto used sand-attack! It dealt 26 damage.\n",
      "darkrai used headbutt! It dealt 23 damage.\n",
      "kabuto used body-slam! It dealt 20 damage.\n",
      "darkrai used swords-dance! It dealt 24 damage.\n",
      "kabuto used sand-attack! It dealt 26 damage.\n",
      "darkrai fainted!\n",
      "pikachu VS omastar\n",
      "pikachu used pay-day! It dealt 54 damage.\n",
      "omastar used sand-attack! It dealt 30 damage.\n",
      "pikachu used mega-punch! It dealt 42 damage.\n",
      "omastar fainted!\n",
      "Mori wins!\n"
     ]
    }
   ],
   "source": [
    "if __name__ == \"__main__\":\n",
    "    pokedex = Pokedex()\n",
    "    trainer_name = input(\"Enter your name: \")\n",
    "    trainer = Trainer(trainer_name)\n",
    "    \n",
    "    while len(trainer.team) < 6:\n",
    "        pokemon_name = input(\"Catch a Pokémon: \")\n",
    "        trainer.catch_pokemon(pokedex, pokemon_name)\n",
    "    \n",
    "    trainer.show_team()\n",
    "    \n",
    "    gym_leader = GymLeader(\"Brock\")\n",
    "    gym_leader.team = [pokedex.get_pokemon(pokemon) for pokemon in [\"onix\", \"geodude\", \"graveler\", \"golem\", \"kabuto\", \"omastar\"]]\n",
    "    \n",
    "    battle = PokemonBattle(trainer, gym_leader)\n",
    "    battle.start_battle()\n"
   ]
  }
 ],
 "metadata": {
  "kernelspec": {
   "display_name": "Python 3 (ipykernel)",
   "language": "python",
   "name": "python3"
  },
  "language_info": {
   "codemirror_mode": {
    "name": "ipython",
    "version": 3
   },
   "file_extension": ".py",
   "mimetype": "text/x-python",
   "name": "python",
   "nbconvert_exporter": "python",
   "pygments_lexer": "ipython3",
   "version": "3.13.1"
  }
 },
 "nbformat": 4,
 "nbformat_minor": 5
}
